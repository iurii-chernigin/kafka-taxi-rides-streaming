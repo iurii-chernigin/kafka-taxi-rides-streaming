{
 "cells": [
  {
   "cell_type": "code",
   "execution_count": null,
   "id": "bb97d1aa",
   "metadata": {},
   "outputs": [],
   "source": [
    "import os\n",
    "os.environ['PYSPARK_SUBMIT_ARGS'] = '--packages org.apache.spark:spark-sql-kafka-0-10_2.12:3.3.1,org.apache.spark:spark-avro_2.12:3.3.1 pyspark-shell'\n",
    "\n",
    "from pyspark.sql import SparkSession\n",
    "import pyspark.sql.functions as F\n",
    "import pyspark.sql.types as T\n",
    "\n",
    "from settings import KAFKA_BOOTSTRAP_SERVER, SCHEMA_GREEN_RIDE"
   ]
  },
  {
   "cell_type": "markdown",
   "id": "a0edf4fa",
   "metadata": {},
   "source": [
    "### Init a Spark session"
   ]
  },
  {
   "cell_type": "code",
   "execution_count": null,
   "id": "09de187d",
   "metadata": {},
   "outputs": [],
   "source": [
    "spark = SparkSession \\\n",
    "    .builder \\\n",
    "    .appName(\"Spark-Notebook\") \\\n",
    "    .getOrCreate()"
   ]
  },
  {
   "cell_type": "markdown",
   "id": "ed4b0bb5",
   "metadata": {},
   "source": [
    "### Read from Kafka"
   ]
  },
  {
   "cell_type": "code",
   "execution_count": null,
   "id": "9bc95356",
   "metadata": {
    "scrolled": false
   },
   "outputs": [],
   "source": [
    "df_stream = spark \\\n",
    "    .readStream \\\n",
    "    .format(\"kafka\") \\\n",
    "    .option(\"kafka.bootstrap.servers\", KAFKA_BOOTSTRAP_SERVER) \\\n",
    "    .option(\"kafka.security.protocol\", \"SASL_SSL\") \\\n",
    "    .option(\"kafka.sasl.mechanisms\", \"PLAIN\") \\\n",
    "    .option(\"kafka.sasl.jaas.config\", \\\n",
    "            \"kafkashaded.org.apache.kafka.common.security.plain.PlainLoginModule required username='{}' password='{}';\" \\\n",
    "            .format(\"<FILL>\", \"<FILL\") \\\n",
    "           ) \\\n",
    "    .option(\"kafka.ssl.endpoint.identification.algorithm\", \"https\") \\\n",
    "    .option(\"kafka.session.timeout.ms\", 4500) \\\n",
    "    .option(\"subscribe\", \"rides_green\") \\\n",
    "    .option(\"startingOffset\", \"earliest\") \\\n",
    "    .option(\"checkpoingLocation\", \"checkpoint\") \\\n",
    "    .load()\n",
    "\n",
    "\n",
    "#\n",
    "# security.protocol=SASL_SSL\n",
    "# sasl.mechanisms=PLAIN\n",
    "# sasl.username={{ CLUSTER_API_KEY }}\n",
    "# sasl.password={{ CLUSTER_API_SECRET }}\n",
    "#\n",
    "#"
   ]
  },
  {
   "cell_type": "code",
   "execution_count": null,
   "id": "bbce00a3",
   "metadata": {},
   "outputs": [],
   "source": [
    "df_stream.printSchema()"
   ]
  },
  {
   "cell_type": "markdown",
   "id": "814efc52",
   "metadata": {},
   "source": [
    "### Parse Green Ride from Kafka"
   ]
  },
  {
   "cell_type": "code",
   "execution_count": null,
   "id": "2360b10a",
   "metadata": {},
   "outputs": [],
   "source": [
    "assert df_stream.isStreaming is True, \"DataFrame doesn't receive streaming data\""
   ]
  },
  {
   "cell_type": "code",
   "execution_count": null,
   "id": "eb273b27",
   "metadata": {},
   "outputs": [],
   "source": [
    "df = df_stream.selectExpr(\"CAST(key as STRING)\", \"CAST(value as STRING)\")"
   ]
  },
  {
   "cell_type": "code",
   "execution_count": null,
   "id": "6ac9e221",
   "metadata": {},
   "outputs": [],
   "source": [
    "col = F.split(df[\"key\"], \",\")"
   ]
  },
  {
   "cell_type": "code",
   "execution_count": null,
   "id": "a475ede4",
   "metadata": {},
   "outputs": [],
   "source": [
    "for idx, field in enumerate(SCHEMA_GREEN_RIDE):\n",
    "    df = df.withColumn(field.name, col.getItem(idx).cast(field.dataType))"
   ]
  },
  {
   "cell_type": "code",
   "execution_count": null,
   "id": "d9d0ad4f",
   "metadata": {},
   "outputs": [],
   "source": [
    "df.select([field.name for field in SCHEMA_GREEN_RIDE])"
   ]
  },
  {
   "cell_type": "code",
   "execution_count": null,
   "id": "393fb606",
   "metadata": {},
   "outputs": [],
   "source": [
    "df.writeStream \\\n",
    "    .outputMode(\"append\") \\\n",
    "    .format(\"console\") \\\n",
    "    .trigger(processingTime=\"5 seconds\") \\\n",
    "    .option(\"truncate\", False) \\\n",
    "    .start()"
   ]
  }
 ],
 "metadata": {
  "kernelspec": {
   "display_name": "Python 3 (ipykernel)",
   "language": "python",
   "name": "python3"
  },
  "language_info": {
   "codemirror_mode": {
    "name": "ipython",
    "version": 3
   },
   "file_extension": ".py",
   "mimetype": "text/x-python",
   "name": "python",
   "nbconvert_exporter": "python",
   "pygments_lexer": "ipython3",
   "version": "3.9.13"
  }
 },
 "nbformat": 4,
 "nbformat_minor": 5
}
